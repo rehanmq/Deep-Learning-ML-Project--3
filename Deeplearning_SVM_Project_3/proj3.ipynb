# proj3.py

import os
import numpy as np
import pandas as pd
import tensorflow as tf
from sklearn import svm
from sklearn.model_selection import train_test_split
from sklearn.preprocessing import LabelEncoder
from sklearn.metrics import accuracy_score
import cv2
import joblib

# Paths
data_dir = 'mushrooms'  # Training images folder
img_height, img_width = 128, 128
batch_size = 32
epochs = 30

# Classes (sorted alphabetically)
classes = ['Agaricus', 'Amanita', 'Boletus', 'Cortinarius', 'Entoloma',
           'Hygrocybe', 'Lactarius', 'Russula', 'Suillus']

# Load dataset
def load_data(data_dir):
    images = []
    labels = []
    for label in os.listdir(data_dir):
        folder_path = os.path.join(data_dir, label)
        if os.path.isdir(folder_path):
            for img_file in os.listdir(folder_path):
                img_path = os.path.join(folder_path, img_file)
                img = cv2.imread(img_path)
                if img is not None:
                    img = cv2.resize(img, (img_width, img_height))
                    images.append(img)
                    labels.append(label)
    return np.array(images), np.array(labels)

print("Loading data...")
X, y = load_data(data_dir)

# Normalize images
X = X / 255.0

# Encode labels
le = LabelEncoder()
y_encoded = le.fit_transform(y)

# Train/Validation split
X_train, X_val, y_train, y_val = train_test_split(X, y_encoded, test_size=0.2, random_state=42)

# Data Augmentation
data_augmentation = tf.keras.Sequential([
    tf.keras.layers.RandomFlip('horizontal'),
    tf.keras.layers.RandomRotation(0.2),
    tf.keras.layers.RandomZoom(0.2)
])

# CNN Classification Model
def create_classification_model():
    model = tf.keras.Sequential([
        tf.keras.layers.InputLayer(input_shape=(img_height, img_width, 3)),
        data_augmentation,
        tf.keras.layers.Conv2D(32, (3,3), activation='relu'),
        tf.keras.layers.MaxPooling2D(2,2),
        tf.keras.layers.Conv2D(64, (3,3), activation='relu'),
        tf.keras.layers.MaxPooling2D(2,2),
        tf.keras.layers.Flatten(),
        tf.keras.layers.Dense(128, activation='relu'),
        tf.keras.layers.Dense(len(classes), activation='softmax')
    ])
    return model

print("Building classification model...")
model_classifier = create_classification_model()
model_classifier.compile(optimizer='adam', loss='sparse_categorical_crossentropy', metrics=['accuracy'])

# Train classifier
model_classifier.fit(X_train, y_train, validation_data=(X_val, y_val), epochs=epochs, batch_size=batch_size)

# Save classifier model
model_classifier.save('cnn_classifier.h5')
print("Classifier model saved.")

# CNN Feature Extractor
def create_feature_extractor():
    model = tf.keras.Sequential([
        tf.keras.layers.InputLayer(input_shape=(img_height, img_width, 3)),
        data_augmentation,
        tf.keras.layers.Conv2D(32, (3,3), activation='relu'),
        tf.keras.layers.MaxPooling2D(2,2),
        tf.keras.layers.Conv2D(64, (3,3), activation='relu'),
        tf.keras.layers.MaxPooling2D(2,2),
        tf.keras.layers.Flatten(),
        tf.keras.layers.Dense(128, activation='relu')  # No softmax here
    ])
    return model

print("Building feature extractor model...")
model_extractor = create_feature_extractor()
model_extractor.compile(optimizer='adam', loss='mse')

# Extract features
features_train = model_extractor.predict(X_train)
features_val = model_extractor.predict(X_val)

# Train SVM
print("Training SVM classifier...")
svm_classifier = svm.SVC(kernel='linear')
svm_classifier.fit(features_train, y_train)

# Validation Accuracy (Feature extractor + SVM)
y_pred_val = svm_classifier.predict(features_val)
acc_svm = accuracy_score(y_val, y_pred_val)
print(f"Feature extractor + SVM Validation Accuracy: {acc_svm*100:.2f}%")

# Save feature extractor and SVM
model_extractor.save('feature_extractor.h5')
joblib.dump(svm_classifier, 'svm_classifier.pkl')
print("Feature extractor and SVM classifier saved.")
