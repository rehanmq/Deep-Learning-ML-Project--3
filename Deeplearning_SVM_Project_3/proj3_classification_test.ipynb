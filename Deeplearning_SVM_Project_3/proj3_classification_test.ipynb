# proj3_classification_test.py

import pandas as pd
import argparse
import tensorflow as tf
import cv2
import numpy as np

def load_model_weights(model):
    my_model = tf.keras.models.load_model(model)
    my_model.summary()
    return my_model

def get_images_labels(df, img_height, img_width):
    images = []
    labels = []
    for idx, row in df.iterrows():
        label = row['label']
        img_path = row['image_path']
        img = cv2.imread(img_path)
        img = cv2.resize(img, (img_height, img_width))
        img = img / 255.0
        images.append(img)
        labels.append(label)
    return np.array(images), np.array(labels)

if __name__=="__main__":
    parser = argparse.ArgumentParser()
    parser.add_argument('--model', type=str, default='cnn_classifier.h5')
    parser.add_argument('--test_csv', type=str, default='mushrooms_test.csv')
    args = parser.parse_args()

    img_height, img_width = 128, 128

    test_df = pd.read_csv(args.test_csv)
    test_images, test_labels = get_images_labels(test_df, img_height, img_width)

    model = load_model_weights(args.model)

    predictions = model.predict(test_images)
    pred_labels = np.argmax(predictions, axis=1)

    from sklearn.preprocessing import LabelEncoder
    le = LabelEncoder()
    le.fit(['Agaricus', 'Amanita', 'Boletus', 'Cortinarius','Entoloma','Hygrocybe','Lactarius', 'Russula', 'Suillus'])
    test_labels_encoded = le.transform(test_labels)

    acc = np.mean(pred_labels == test_labels_encoded)
    print(f"Test Accuracy (CNN Classifier): {acc*100:.2f}%")
